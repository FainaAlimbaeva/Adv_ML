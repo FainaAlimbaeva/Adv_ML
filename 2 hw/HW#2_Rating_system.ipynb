{
 "cells": [
  {
   "cell_type": "markdown",
   "metadata": {},
   "source": [
    "# 1. Data preprocessing"
   ]
  },
  {
   "cell_type": "markdown",
   "metadata": {},
   "source": [
    "Прочитайте и проанализируйте данные, выберите турниры, в которых есть данные о составах команд и повопросных результатах (поле mask в results.pkl). Для унификации предлагаю:\n",
    "* взять в тренировочный набор турниры с dateStart из 2019 года; \n",
    "* в тестовый — турниры с dateStart из 2020 года.\n"
   ]
  },
  {
   "cell_type": "code",
   "execution_count": 43,
   "metadata": {},
   "outputs": [],
   "source": [
    "# Импорт библиотек\n",
    "import pickle\n",
    "import numpy as np\n",
    "import scipy as sp\n",
    "import pandas as pd\n",
    "import tqdm\n",
    "from scipy import stats\n",
    "\n",
    "from sklearn.linear_model import LogisticRegression\n",
    "from sklearn.svm import LinearSVR\n",
    "from sklearn.preprocessing import OneHotEncoder\n",
    "from sklearn.compose import ColumnTransformer\n",
    "from sklearn.pipeline import Pipeline"
   ]
  },
  {
   "cell_type": "code",
   "execution_count": 2,
   "metadata": {},
   "outputs": [],
   "source": [
    "# Загружаем данные\n",
    "players = pd.read_pickle(\"data/players.pkl\")\n",
    "results = pd.read_pickle(\"data/results.pkl\")  \n",
    "tournaments = pd.read_pickle(\"data/tournaments.pkl\")  \n"
   ]
  },
  {
   "cell_type": "code",
   "execution_count": 3,
   "metadata": {},
   "outputs": [],
   "source": [
    "players = pd.DataFrame(players).T\n",
    "tournaments = pd.DataFrame(tournaments).T"
   ]
  },
  {
   "cell_type": "code",
   "execution_count": 4,
   "metadata": {},
   "outputs": [
    {
     "name": "stdout",
     "output_type": "stream",
     "text": [
      "Data train length:  687\n",
      "Data test length:  422\n"
     ]
    },
    {
     "name": "stderr",
     "output_type": "stream",
     "text": [
      "<ipython-input-4-9e2f536672b2>:2: UserWarning: Boolean Series key will be reindexed to match DataFrame index.\n",
      "  idx_list_train = tournaments[tournaments['dateStart'] >= '2019'][tournaments['dateStart']  <'2020'].index\n"
     ]
    }
   ],
   "source": [
    "idx_list_test = tournaments[tournaments['dateStart'] >= '2020'].index\n",
    "idx_list_train = tournaments[tournaments['dateStart'] >= '2019'][tournaments['dateStart']  <'2020'].index\n",
    "print('Data train length: ', len(idx_list_train))\n",
    "print('Data test length: ', len(idx_list_test))\n"
   ]
  },
  {
   "cell_type": "code",
   "execution_count": 5,
   "metadata": {
    "scrolled": true
   },
   "outputs": [
    {
     "name": "stdout",
     "output_type": "stream",
     "text": [
      "Clean data train length:  674\n",
      "Clean data test length:  173\n"
     ]
    }
   ],
   "source": [
    "# Отберем турниры с данными по team и mask\n",
    "def idx_clean(idx_list):\n",
    "    new_idx_list = []\n",
    "    for i in idx_list:\n",
    "        try:\n",
    "            if results[i][0]['team'] and results[i][0]['mask']:\n",
    "                new_idx_list.append(i)\n",
    "        except:\n",
    "            continue\n",
    "    return new_idx_list\n",
    "\n",
    "# Aктуальные списки соревнований    \n",
    "idx_list_test = idx_clean(idx_list_test)\n",
    "idx_list_train = idx_clean(idx_list_train)\n",
    "\n",
    "print('Clean data train length: ', len(idx_list_train))\n",
    "print('Clean data test length: ', len(idx_list_test))\n"
   ]
  },
  {
   "cell_type": "code",
   "execution_count": 6,
   "metadata": {},
   "outputs": [
    {
     "name": "stderr",
     "output_type": "stream",
     "text": [
      "100%|████████████████████████████████████████████████████████████████████████████████| 674/674 [02:32<00:00,  4.41it/s]\n",
      "100%|████████████████████████████████████████████████████████████████████████████████| 173/173 [00:28<00:00,  6.08it/s]\n"
     ]
    }
   ],
   "source": [
    "def create_df(idx_list):\n",
    "    df_results = []\n",
    "    for idx in tqdm.tqdm(idx_list):\n",
    "        for team in results[idx]:\n",
    "            if team['mask']:\n",
    "                mask = str(team['mask']).replace('X','0').replace('?', '0')\n",
    "                players = team['teamMembers']\n",
    "                team_id = team['team']['id']\n",
    "                for player in players:  \n",
    "                    player_id = player['player']['id']\n",
    "                    for no_q, answer in enumerate(mask): \n",
    "                        df_results.append([idx, team_id, player_id, no_q, answer])\n",
    "    df = pd.DataFrame(df_results)\n",
    "    df.columns = ['tournament_id', 'team_id', 'player_id', 'question', 'answer']\n",
    "    return df\n",
    "\n",
    "df_train = create_df(idx_list_train)\n",
    "df_test = create_df(idx_list_test)"
   ]
  },
  {
   "cell_type": "code",
   "execution_count": 7,
   "metadata": {},
   "outputs": [
    {
     "name": "stderr",
     "output_type": "stream",
     "text": [
      "100%|██████████████████████████████████████████████████████████████████████████████| 173/173 [00:00<00:00, 8774.16it/s]\n"
     ]
    }
   ],
   "source": [
    "# Соберем разметку позиций с сайта ЧГК? в словарик, для удобства обращения\n",
    "dict_labels = {}\n",
    "for idx in tqdm.tqdm(idx_list_test):\n",
    "    dict_labels[idx] = {}\n",
    "    for team in results[idx]:\n",
    "        team_id = team['team']['id']\n",
    "        team_pos = team['position']\n",
    "        dict_labels[idx][team_id] = team_pos"
   ]
  },
  {
   "cell_type": "code",
   "execution_count": 8,
   "metadata": {},
   "outputs": [],
   "source": [
    "# Сохраняем данные\n",
    "df_train.to_pickle(\"data/df_train.pkl\") \n",
    "df_test.to_pickle(\"data/df_test.pkl\") \n",
    "pickle.dump(dict_labels, open('data/dict_labels', 'wb'))"
   ]
  },
  {
   "cell_type": "markdown",
   "metadata": {},
   "source": [
    "# 2. Baseline-model"
   ]
  },
  {
   "cell_type": "markdown",
   "metadata": {},
   "source": [
    " Постройте baseline-модель на основе линейной или логистической регрессии, которая будет обучать рейтинг-лист игроков. Замечания и подсказки:\n",
    "* повопросные результаты — это фактически результаты броска монетки, и их предсказание скорее всего имеет отношение к бинарной классификации;\n",
    "* в разных турнирах вопросы совсем разного уровня сложности, поэтому модель должна это учитывать; скорее всего, модель должна будет явно обучать не только силу каждого игрока, но и сложность каждого вопроса;\n",
    "* для baseline-модели можно забыть о командах и считать, что повопросные результаты команды просто относятся к каждому из её игроков.\n"
   ]
  },
  {
   "cell_type": "code",
   "execution_count": 9,
   "metadata": {},
   "outputs": [],
   "source": [
    "%reload_ext autoreload\n",
    "%autoreload 2"
   ]
  },
  {
   "cell_type": "code",
   "execution_count": 10,
   "metadata": {},
   "outputs": [],
   "source": [
    "# Загружаем данные\n",
    "df_train = pickle.load(open('data/df_train.pkl', 'rb'))"
   ]
  },
  {
   "cell_type": "code",
   "execution_count": 11,
   "metadata": {},
   "outputs": [
    {
     "name": "stdout",
     "output_type": "stream",
     "text": [
      "number of players =  59100\n",
      "number of tournamets =  674\n"
     ]
    }
   ],
   "source": [
    "n_players = df_train.player_id.nunique()\n",
    "n_tourn = df_train.tournament_id.nunique()\n",
    "print('number of players = ', n_players)\n",
    "print('number of tournamets = ', n_tourn)"
   ]
  },
  {
   "cell_type": "markdown",
   "metadata": {},
   "source": [
    "Обучим логистическую регрессию на Dummy-переменных, т.е. переведем в признаки всех игроков, а также турниры. Тем самым в коэффициентах регрессии получим силы игроков, а также сложности потурнирных вопросов."
   ]
  },
  {
   "cell_type": "code",
   "execution_count": 12,
   "metadata": {},
   "outputs": [
    {
     "data": {
      "text/plain": [
       "Pipeline(steps=[('preprocessor',\n",
       "                 ColumnTransformer(transformers=[('Dummies', OneHotEncoder(),\n",
       "                                                  ['tournament_id',\n",
       "                                                   'player_id'])])),\n",
       "                ('classifier', LogisticRegression(solver='liblinear'))])"
      ]
     },
     "execution_count": 12,
     "metadata": {},
     "output_type": "execute_result"
    }
   ],
   "source": [
    "categorical_transformer = OneHotEncoder()\n",
    "categorical_features = ['tournament_id', 'player_id']\n",
    "X, y = df_train[categorical_features], df_train['answer']\n",
    "\n",
    "preprocessor = ColumnTransformer(\n",
    "    transformers=[\n",
    "        (\"Dummies\", categorical_transformer, categorical_features),\n",
    "    ]\n",
    ")\n",
    "\n",
    "clf = Pipeline(\n",
    "    steps=[(\"preprocessor\", preprocessor), (\"classifier\", LogisticRegression(solver='liblinear'))]\n",
    ")\n",
    "\n",
    "clf.fit(X, y)"
   ]
  },
  {
   "cell_type": "code",
   "execution_count": 110,
   "metadata": {},
   "outputs": [],
   "source": [
    "powers = clf['classifier'].coef_[0][n_tourn:]"
   ]
  },
  {
   "cell_type": "markdown",
   "metadata": {},
   "source": [
    "Создадим табличку сил игроков"
   ]
  },
  {
   "cell_type": "code",
   "execution_count": 111,
   "metadata": {},
   "outputs": [],
   "source": [
    "players_ids = sorted(df_train.player_id.unique())\n",
    "players_rating = dict(zip(players_ids, powers))"
   ]
  },
  {
   "cell_type": "code",
   "execution_count": 15,
   "metadata": {},
   "outputs": [],
   "source": [
    "# Сохраняем данные\n",
    "pickle.dump(clf, open('data/clf_baseline', 'wb'))\n",
    "pickle.dump(players_rating, open('data/players_rating', 'wb'))"
   ]
  },
  {
   "cell_type": "markdown",
   "metadata": {},
   "source": [
    "# 3. Validation\n",
    "Качество рейтинг-системы оценивается качеством предсказаний результатов турниров. Но сами повопросные результаты наши модели предсказывать вряд ли смогут, ведь неизвестно, насколько сложными окажутся вопросы в будущих турнирах; да и не нужны эти предсказания сами по себе. Поэтому:\n",
    "* предложите способ предсказать результаты нового турнира с известными составами, но неизвестными вопросами, в виде ранжирования команд;\n",
    "* в качестве метрики качества на тестовом наборе давайте считать ранговые корреляции Спирмена и Кендалла (их можно взять в пакете scipy) между реальным ранжированием в результатах турнира и предсказанным моделью, усреднённые по тестовому множеству турниров.\n",
    "\n",
    "Для самопроверки: у Cергея средняя корреляция Спирмена на тестовом множестве 2020 года во всех моделях, включая baselines, получалась порядка 0.7-0.8, а корреляция Кендалла — порядка 0.5-0.6. Если у вас корреляции вышли за 0.9 или, наоборот, упали ниже 0.3, скорее всего где-то баг."
   ]
  },
  {
   "cell_type": "code",
   "execution_count": 16,
   "metadata": {},
   "outputs": [],
   "source": [
    "%reload_ext autoreload\n",
    "%autoreload 2"
   ]
  },
  {
   "cell_type": "code",
   "execution_count": 17,
   "metadata": {},
   "outputs": [],
   "source": [
    "# Загружаем данные\n",
    "df_train = pickle.load(open('data/df_train.pkl', 'rb'))\n",
    "df_test = pickle.load(open('data/df_test.pkl', 'rb'))\n",
    "clf = pickle.load(open('data/clf_baseline', 'rb'))\n",
    "players_rating = pickle.load(open('data/players_rating', 'rb'))"
   ]
  },
  {
   "cell_type": "code",
   "execution_count": 18,
   "metadata": {},
   "outputs": [
    {
     "data": {
      "text/html": [
       "<div>\n",
       "<style scoped>\n",
       "    .dataframe tbody tr th:only-of-type {\n",
       "        vertical-align: middle;\n",
       "    }\n",
       "\n",
       "    .dataframe tbody tr th {\n",
       "        vertical-align: top;\n",
       "    }\n",
       "\n",
       "    .dataframe thead th {\n",
       "        text-align: right;\n",
       "    }\n",
       "</style>\n",
       "<table border=\"1\" class=\"dataframe\">\n",
       "  <thead>\n",
       "    <tr style=\"text-align: right;\">\n",
       "      <th></th>\n",
       "      <th>tournament_id</th>\n",
       "      <th>team_id</th>\n",
       "      <th>player_id</th>\n",
       "      <th>question</th>\n",
       "    </tr>\n",
       "  </thead>\n",
       "  <tbody>\n",
       "    <tr>\n",
       "      <th>0</th>\n",
       "      <td>4957</td>\n",
       "      <td>2</td>\n",
       "      <td>6482</td>\n",
       "      <td>39</td>\n",
       "    </tr>\n",
       "    <tr>\n",
       "      <th>1</th>\n",
       "      <td>4957</td>\n",
       "      <td>2</td>\n",
       "      <td>25882</td>\n",
       "      <td>39</td>\n",
       "    </tr>\n",
       "    <tr>\n",
       "      <th>2</th>\n",
       "      <td>4957</td>\n",
       "      <td>2</td>\n",
       "      <td>30475</td>\n",
       "      <td>39</td>\n",
       "    </tr>\n",
       "    <tr>\n",
       "      <th>3</th>\n",
       "      <td>4957</td>\n",
       "      <td>2</td>\n",
       "      <td>32458</td>\n",
       "      <td>39</td>\n",
       "    </tr>\n",
       "    <tr>\n",
       "      <th>4</th>\n",
       "      <td>4957</td>\n",
       "      <td>2</td>\n",
       "      <td>34846</td>\n",
       "      <td>39</td>\n",
       "    </tr>\n",
       "  </tbody>\n",
       "</table>\n",
       "</div>"
      ],
      "text/plain": [
       "   tournament_id  team_id  player_id  question\n",
       "0           4957        2       6482        39\n",
       "1           4957        2      25882        39\n",
       "2           4957        2      30475        39\n",
       "3           4957        2      32458        39\n",
       "4           4957        2      34846        39"
      ]
     },
     "execution_count": 18,
     "metadata": {},
     "output_type": "execute_result"
    }
   ],
   "source": [
    "df = df_test.groupby(['tournament_id','team_id','player_id']).question.count().reset_index()\n",
    "df.head()"
   ]
  },
  {
   "cell_type": "code",
   "execution_count": 19,
   "metadata": {
    "scrolled": true
   },
   "outputs": [],
   "source": [
    "# Добавим в таблицу столбец с рейтингом игроков\n",
    "df['player_rating'] = df['player_id'].apply(lambda x: players_rating[x] if x in players_rating.keys() else np.nan)"
   ]
  },
  {
   "cell_type": "code",
   "execution_count": 20,
   "metadata": {},
   "outputs": [],
   "source": [
    "# Сгруппируем данные по турнирам и командам и проссумируем покомандные рейтинги\n",
    "team_raiting = df.groupby(['tournament_id','team_id'])['player_rating'].sum().reset_index()\n",
    "team_raiting.columns = ['tournament_id','team_id', 'rating']\n",
    "team_raiting = team_raiting.groupby(['tournament_id','rating','team_id']).count().reset_index()"
   ]
  },
  {
   "cell_type": "code",
   "execution_count": 21,
   "metadata": {},
   "outputs": [],
   "source": [
    "# Посчитаем по суммарным рейтингам команд их позиции на турнире. Просто отсортируем рейтинги и присвоим командам места.\n",
    "labels_pred = []\n",
    "for t in team_raiting.tournament_id.unique():\n",
    "    n = len(team_raiting[team_raiting['tournament_id'] == t])\n",
    "    for i in range(n):\n",
    "        labels_pred.append(n-i)\n",
    "team_raiting['labels_pred'] = pd.Series(labels_pred)"
   ]
  },
  {
   "cell_type": "code",
   "execution_count": 22,
   "metadata": {},
   "outputs": [
    {
     "name": "stderr",
     "output_type": "stream",
     "text": [
      "100%|███████████████████████████████████████████████████████████████████████████████| 173/173 [00:00<00:00, 264.36it/s]\n"
     ]
    }
   ],
   "source": [
    "# Соберем разметку позиций с сайта ЧГК? в словарик, для удобства обращения\n",
    "dict_labels = {}\n",
    "for idx in tqdm.tqdm(idx_list_test):\n",
    "    dict_labels[idx] = {}\n",
    "    for team in results[idx]:\n",
    "        team_id = team['team']['id']\n",
    "        team_pos = team['position']\n",
    "        dict_labels[idx][team_id] = team_pos\n"
   ]
  },
  {
   "cell_type": "code",
   "execution_count": 23,
   "metadata": {
    "scrolled": true
   },
   "outputs": [
    {
     "data": {
      "text/html": [
       "<div>\n",
       "<style scoped>\n",
       "    .dataframe tbody tr th:only-of-type {\n",
       "        vertical-align: middle;\n",
       "    }\n",
       "\n",
       "    .dataframe tbody tr th {\n",
       "        vertical-align: top;\n",
       "    }\n",
       "\n",
       "    .dataframe thead th {\n",
       "        text-align: right;\n",
       "    }\n",
       "</style>\n",
       "<table border=\"1\" class=\"dataframe\">\n",
       "  <thead>\n",
       "    <tr style=\"text-align: right;\">\n",
       "      <th></th>\n",
       "      <th>tournament_id</th>\n",
       "      <th>rating</th>\n",
       "      <th>team_id</th>\n",
       "      <th>labels_pred</th>\n",
       "      <th>labels</th>\n",
       "    </tr>\n",
       "  </thead>\n",
       "  <tbody>\n",
       "    <tr>\n",
       "      <th>0</th>\n",
       "      <td>4957</td>\n",
       "      <td>-17.541271</td>\n",
       "      <td>49804</td>\n",
       "      <td>92</td>\n",
       "      <td>1.0</td>\n",
       "    </tr>\n",
       "    <tr>\n",
       "      <th>1</th>\n",
       "      <td>4957</td>\n",
       "      <td>-14.671829</td>\n",
       "      <td>77418</td>\n",
       "      <td>91</td>\n",
       "      <td>4.0</td>\n",
       "    </tr>\n",
       "    <tr>\n",
       "      <th>2</th>\n",
       "      <td>4957</td>\n",
       "      <td>-14.604966</td>\n",
       "      <td>2</td>\n",
       "      <td>90</td>\n",
       "      <td>5.5</td>\n",
       "    </tr>\n",
       "    <tr>\n",
       "      <th>3</th>\n",
       "      <td>4957</td>\n",
       "      <td>-14.318287</td>\n",
       "      <td>46381</td>\n",
       "      <td>89</td>\n",
       "      <td>31.5</td>\n",
       "    </tr>\n",
       "    <tr>\n",
       "      <th>4</th>\n",
       "      <td>4957</td>\n",
       "      <td>-14.290825</td>\n",
       "      <td>27177</td>\n",
       "      <td>88</td>\n",
       "      <td>22.0</td>\n",
       "    </tr>\n",
       "  </tbody>\n",
       "</table>\n",
       "</div>"
      ],
      "text/plain": [
       "   tournament_id     rating  team_id  labels_pred  labels\n",
       "0           4957 -17.541271    49804           92     1.0\n",
       "1           4957 -14.671829    77418           91     4.0\n",
       "2           4957 -14.604966        2           90     5.5\n",
       "3           4957 -14.318287    46381           89    31.5\n",
       "4           4957 -14.290825    27177           88    22.0"
      ]
     },
     "execution_count": 23,
     "metadata": {},
     "output_type": "execute_result"
    }
   ],
   "source": [
    "# Объединим все в кучу для наглядности\n",
    "labels = []\n",
    "for i in team_raiting.index:\n",
    "    tournament = team_raiting['tournament_id'][i]\n",
    "    team_id = team_raiting['team_id'][i]\n",
    "    labels.append(dict_labels[tournament][team_id])\n",
    "team_raiting['labels'] = pd.Series(labels)\n",
    "team_raiting.head()"
   ]
  },
  {
   "cell_type": "code",
   "execution_count": 24,
   "metadata": {},
   "outputs": [
    {
     "name": "stdout",
     "output_type": "stream",
     "text": [
      "Spearman correlation =  -0.78\n",
      "Kendall correlation =  -0.62\n"
     ]
    }
   ],
   "source": [
    "# Посчитаем корреляции отдельно по турнирам, а затем посмотрим на среднее.\n",
    "Spearman = []\n",
    "Kendall = []\n",
    "for tournament in team_raiting.tournament_id.unique():\n",
    "    df_tourn = team_raiting[team_raiting.tournament_id == tournament]\n",
    "    if len(df_tourn) > 1:\n",
    "        Spearman.append((stats.spearmanr(df_tourn['labels_pred'], df_tourn['labels']).correlation))\n",
    "        Kendall.append(stats.kendalltau(df_tourn['labels_pred'], df_tourn['labels']).correlation)\n",
    "print('Spearman correlation = ', round(np.mean(Spearman), 2))\n",
    "print('Kendall correlation = ', round(np.mean(Kendall), 2))"
   ]
  },
  {
   "cell_type": "code",
   "execution_count": 56,
   "metadata": {},
   "outputs": [],
   "source": [
    "# Объединим всю валидацию в одну функцию с определением метрик корреляции\n",
    "players_ids = sorted(df_train.player_id.unique())\n",
    "df = df_test.groupby(['tournament_id','team_id','player_id']).question.count().reset_index()\n",
    "n_tourn = df_train.tournament_id.nunique()\n",
    "def validation(clf, df, players_ids, dict_labels, n_tourn):\n",
    "    # Создаем словарь с силой игрока\n",
    "    powers = clf['classifier'].coef_[0][n_tourn:]\n",
    "    players_rating = dict(zip(players_ids, powers))\n",
    "\n",
    "    # Добавим в таблицу столбец с рейтингом игроков\n",
    "    df['player_rating'] = df['player_id'].apply(lambda x: players_rating[x] if x in players_rating.keys() else np.nan)\n",
    "\n",
    "    # Сгруппируем данные по турнирам и командам и проссумируем покомандные рейтинги\n",
    "    team_raiting = df.groupby(['tournament_id','team_id'])['player_rating'].sum().reset_index()\n",
    "    team_raiting.columns = ['tournament_id','team_id', 'rating']\n",
    "    team_raiting = team_raiting.groupby(['tournament_id','rating','team_id']).count().reset_index()\n",
    "    # Посчитаем по суммарным рейтингам команд их позиции на турнире. Просто отсортируем рейтинги и присвоим командам места.\n",
    "\n",
    "    labels_pred = []\n",
    "    for t in team_raiting.tournament_id.unique():\n",
    "        n = len(team_raiting[team_raiting['tournament_id'] == t])\n",
    "        for i in range(n):\n",
    "            labels_pred.append(n-i)\n",
    "    team_raiting['labels_pred'] = pd.Series(labels_pred)\n",
    "\n",
    "     # Объединим все в кучу для наглядности\n",
    "    labels = []\n",
    "    for i in team_raiting.index:\n",
    "        tournament = team_raiting['tournament_id'][i]\n",
    "        team_id = team_raiting['team_id'][i]\n",
    "        labels.append(dict_labels[tournament][team_id])\n",
    "    team_raiting['labels'] = pd.Series(labels)\n",
    "\n",
    "    # Посчитаем корреляции отдельно по турнирам, а затем посмотрим на среднее.\n",
    "    Spearman = []\n",
    "    Kendall = []\n",
    "    for tournament in team_raiting.tournament_id.unique():\n",
    "        df_tourn = team_raiting[team_raiting.tournament_id == tournament]\n",
    "        if len(df_tourn) > 1:\n",
    "            Spearman.append((stats.spearmanr(df_tourn['labels_pred'], df_tourn['labels']).correlation))\n",
    "            Kendall.append(stats.kendalltau(df_tourn['labels_pred'], df_tourn['labels']).correlation)\n",
    "    print('Spearman correlation = ', round(np.mean(Spearman), 2))\n",
    "    print('Kendall correlation = ', round(np.mean(Kendall), 2))"
   ]
  },
  {
   "cell_type": "markdown",
   "metadata": {},
   "source": [
    "# 4. EM algorithm\n",
    "Теперь главное: ЧГК — это всё-таки командная игра. Поэтому:\n",
    "предложите способ учитывать то, что на вопрос отвечают сразу несколько игроков; скорее всего, понадобятся скрытые переменные; не стесняйтесь делать упрощающие предположения, но теперь переменные “игрок X ответил на вопрос Y” при условии данных должны стать зависимыми для игроков одной и той же команды;\n",
    "разработайте EM-схему для обучения этой модели, реализуйте её в коде;\n",
    "обучите несколько итераций, убедитесь, что целевые метрики со временем растут (скорее всего, ненамного, но расти должны), выберите лучшую модель, используя целевые метрики.\n"
   ]
  },
  {
   "cell_type": "markdown",
   "metadata": {},
   "source": [
    "В качестве скрытых переменных будем использовать ответы игроков на каждый вопрос $z_{iq}$ - икгрок i ответил на вопрос q. Cчитаем, что команда ответила на вопрос, если хотябы один игрок из команды ответил на него правильно, и, соответственно, если никто из игроков не ответил на впорос, то и команда на него не ответила."
   ]
  },
  {
   "cell_type": "markdown",
   "metadata": {},
   "source": [
    "### E-шаг\n",
    "Запоминаем предсказания логистической регрессии и вычисляем ожидания скрытых переменных\n",
    "\n",
    "$$\n",
    " {\\displaystyle \\mathbb {E} [z_{iq}]} = \\begin{cases}\n",
    " & 0, & \\quad  \\text{если } x_{tq} = 0,\\\\\n",
    " & \\frac{p (z_{ij} = 1)}{1 - \\Pi_{k \\in t} (1 - p (z_{kj}))} & \\quad  \\text{если } x_{tq} = 1,\n",
    " \\end{cases}\n",
    "$$\n",
    "\n",
    "Так как у нас бинарная классификация, то просто максимум из ответов игроков по команде будет по сути являться ответом всей команды."
   ]
  },
  {
   "cell_type": "code",
   "execution_count": 25,
   "metadata": {},
   "outputs": [],
   "source": [
    "%reload_ext autoreload\n",
    "%autoreload 2"
   ]
  },
  {
   "cell_type": "code",
   "execution_count": 137,
   "metadata": {},
   "outputs": [],
   "source": [
    "# Загружаем данные\n",
    "df_train = pickle.load(open('data/df_train.pkl', 'rb'))\n",
    "df_test = pickle.load(open('data/df_test.pkl', 'rb'))\n",
    "clf = pickle.load(open('data/clf_baseline', 'rb'))\n",
    "players_rating = pickle.load(open('data/players_rating', 'rb'))\n",
    "dict_labels = pickle.load(open('data/dict_labels', 'rb'))"
   ]
  },
  {
   "cell_type": "code",
   "execution_count": 67,
   "metadata": {},
   "outputs": [],
   "source": [
    "# Инициализируем логистическую регрессию\n",
    "def train_model(X, y):\n",
    "    categorical_transformer = OneHotEncoder()\n",
    "    preprocessor = ColumnTransformer(\n",
    "        transformers=[\n",
    "            (\"Dummies\", categorical_transformer, categorical_features),\n",
    "        ]\n",
    "    )\n",
    "\n",
    "    clf = Pipeline(\n",
    "        steps=[(\"preprocessor\", preprocessor), (\"classifier\", LogisticRegression(solver='liblinear'))]\n",
    "    )\n",
    "\n",
    "    clf.fit(X, y)\n",
    "    return clf"
   ]
  },
  {
   "cell_type": "code",
   "execution_count": 68,
   "metadata": {},
   "outputs": [],
   "source": [
    "# Возьмем предсказания с нашей обученной модели\n",
    "categorical_features = ['tournament_id', 'player_id']\n",
    "X, y = df_train[categorical_features], df_train['answer']\n",
    "clf = train_model(X, y)\n",
    "y_pred = clf.predict(X)\n"
   ]
  },
  {
   "cell_type": "code",
   "execution_count": 70,
   "metadata": {},
   "outputs": [],
   "source": [
    "def e_step(df, y_pred):\n",
    "    df = df_train.copy()\n",
    "    df['predict'] = y_pred\n",
    "    # Зануляем веросятности игроков, где ответ команды 0\n",
    "    df.loc[df['answer'] == '0','predict'] = 0\n",
    "    df['predict'] = df['predict'].apply(lambda x: int(x))\n",
    "    # Группируем данные по турниру, командам и вопросам и из предсказаний по членам команд выбираем максимальное значение\n",
    "    y_new= df.groupby(['tournament_id', 'team_id', 'question'])['predict'].transform('max')\n",
    "    return y_new"
   ]
  },
  {
   "cell_type": "markdown",
   "metadata": {},
   "source": [
    "### M-шаг\n",
    "Обучаем логистическую регрессию с $\\mathbb {E}[z_{iq}]$"
   ]
  },
  {
   "cell_type": "code",
   "execution_count": 71,
   "metadata": {},
   "outputs": [],
   "source": [
    "def m_step(clf, X, y):\n",
    "    clf = train_model(X, y)\n",
    "    return clf, clf.predict(X)"
   ]
  },
  {
   "cell_type": "markdown",
   "metadata": {},
   "source": [
    "### Обучение EM - алгоритма"
   ]
  },
  {
   "cell_type": "code",
   "execution_count": 86,
   "metadata": {},
   "outputs": [
    {
     "name": "stdout",
     "output_type": "stream",
     "text": [
      "Epoch 0 (initialization)\n",
      "Spearman correlation =  0.78\n",
      "Kendall correlation =  0.62\n"
     ]
    }
   ],
   "source": [
    "print('Epoch 0 (initialization)')\n",
    "validation(clf, df, players_ids, dict_labels, n_tourn)"
   ]
  },
  {
   "cell_type": "code",
   "execution_count": 72,
   "metadata": {},
   "outputs": [
    {
     "name": "stdout",
     "output_type": "stream",
     "text": [
      "Epoch  1\n",
      "Spearman correlation =  0.74\n",
      "Kendall correlation =  0.58\n",
      "Epoch  2\n",
      "Spearman correlation =  0.68\n",
      "Kendall correlation =  0.53\n",
      "Epoch  3\n",
      "Spearman correlation =  0.65\n",
      "Kendall correlation =  0.5\n",
      "Epoch  4\n",
      "Spearman correlation =  0.62\n",
      "Kendall correlation =  0.47\n",
      "Epoch  5\n",
      "Spearman correlation =  0.6\n",
      "Kendall correlation =  0.45\n"
     ]
    }
   ],
   "source": [
    "n_epoch = 5\n",
    "X, y = df_train[categorical_features], df_train['answer']\n",
    "for epoch in range(n_epoch):\n",
    "    print('Epoch ', epoch + 1)\n",
    "    y = e_step(df_train, y_pred)\n",
    "    clf, y_pred = m_step(clf, X, y)\n",
    "    validation(clf, df, players_ids, dict_labels, n_tourn)\n",
    "    # Сохраняем данные\n",
    "    pickle.dump(clf, open('data/clf_EM_' + str( epoch + 1) + '_epoch', 'wb'))\n"
   ]
  },
  {
   "cell_type": "markdown",
   "metadata": {},
   "source": [
    "### Размышления:\n",
    "От итерации EM алгоритма качество снижается. Я думаю, что это может быть все таки связано с тем, что нужно обобщать результаты игроков иначе, чем просто судить по одному игроку, который ответил правильно. Например перевзвешивать результаты с силой игроков и брать произведение вероятностей ответов всех игроков."
   ]
  },
  {
   "cell_type": "code",
   "execution_count": 138,
   "metadata": {},
   "outputs": [],
   "source": [
    "# Загружаем данные\n",
    "df_train = pickle.load(open('data/df_train.pkl', 'rb'))\n",
    "df_test = pickle.load(open('data/df_test.pkl', 'rb'))\n",
    "clf = pickle.load(open('data/clf_baseline', 'rb'))\n",
    "players_rating = pickle.load(open('data/players_rating', 'rb'))\n",
    "dict_labels = pickle.load(open('data/dict_labels', 'rb'))"
   ]
  },
  {
   "cell_type": "code",
   "execution_count": 113,
   "metadata": {},
   "outputs": [],
   "source": [
    "# Добавим в таблицу столбец с рейтингом игроков\n",
    "df_train['player_rating'] = df_train['player_id'].apply(lambda x: players_rating[x] if x in players_rating.keys() else np.nan)"
   ]
  },
  {
   "cell_type": "code",
   "execution_count": 123,
   "metadata": {},
   "outputs": [],
   "source": [
    "from sklearn.preprocessing import MinMaxScaler\n",
    "scaler = MinMaxScaler()\n",
    "player_rating = scaler.fit_transform(df_train['player_rating'].values.reshape(-1, 1)).reshape(1, -1)[0]"
   ]
  },
  {
   "cell_type": "code",
   "execution_count": null,
   "metadata": {},
   "outputs": [],
   "source": [
    "def e_step(df, y_pred, player_rating):\n",
    "    df = df_train.copy()\n",
    "    df['predict'] = player_rating * np.array([int(x) for x in y_pred])\n",
    "    # Зануляем веросятности игроков, где ответ команды 0\n",
    "    df.loc[df['answer'] == '0','predict'] = 0\n",
    "#     df['predict'] = df['predict'].apply(lambda x: int(x))\n",
    "    # Группируем данные по турниру, командам и вопросам и из предсказаний по членам команд выбираем суммарные значение\n",
    "    y_new= df.groupby(['tournament_id', 'team_id', 'question'])['predict'].transform('sum').apply(lambda x: 1 if round(x)>=1 else 0)\n",
    "    return y_new\n",
    "\n",
    "def m_step(clf, X, y):\n",
    "    clf = train_model(X, y)\n",
    "    return clf, clf.predict(X)\n"
   ]
  },
  {
   "cell_type": "code",
   "execution_count": null,
   "metadata": {},
   "outputs": [
    {
     "name": "stdout",
     "output_type": "stream",
     "text": [
      "Epoch 0 (initialization)\n",
      "Spearman correlation =  0.78\n",
      "Kendall correlation =  0.62\n",
      "Epoch  1\n",
      "Spearman correlation =  0.73\n",
      "Kendall correlation =  0.57\n",
      "Epoch  2\n",
      "Spearman correlation =  0.68\n",
      "Kendall correlation =  0.53\n",
      "Epoch  3\n",
      "Spearman correlation =  0.65\n",
      "Kendall correlation =  0.5\n",
      "Epoch  4\n",
      "Spearman correlation =  0.62\n",
      "Kendall correlation =  0.47\n",
      "Epoch  5\n"
     ]
    }
   ],
   "source": [
    "n_epoch = 5\n",
    "X, y = df_train[categorical_features], df_train['answer']\n",
    "\n",
    "print('Epoch 0 (initialization)')\n",
    "validation(clf, df, players_ids, dict_labels, n_tourn)\n",
    "y_pred = clf.predict(X)\n",
    "\n",
    "for epoch in range(n_epoch):\n",
    "    print('Epoch ', epoch + 1)\n",
    "    y = e_step(df_train, y_pred, player_rating)\n",
    "    clf, y_pred = m_step(clf, X, y)\n",
    "    validation(clf, df, players_ids, dict_labels, n_tourn)\n",
    "    # Сохраняем данные\n",
    "    pickle.dump(clf, open('data/clf_EM_' + str( epoch + 1) + '_epoch', 'wb'))\n"
   ]
  },
  {
   "cell_type": "markdown",
   "metadata": {},
   "source": [
    "Все равно что-то не оч)))) Но спускается корреляция меньше, чем при оценке ответа одного участника команды."
   ]
  },
  {
   "cell_type": "markdown",
   "metadata": {},
   "source": [
    "# 5. Rating list of tournaments question\n",
    "А что там с вопросами? Постройте “рейтинг-лист” турниров по сложности вопросов. Соответствует ли он интуиции (например, на чемпионате мира в целом должны быть сложные вопросы, а на турнирах для школьников — простые)? Если будет интересно: постройте топ сложных и простых вопросов со ссылками на конкретные записи в базе вопросов ЧГК (это чисто техническое дело, тут никакого ML нету).\n"
   ]
  },
  {
   "cell_type": "code",
   "execution_count": 73,
   "metadata": {},
   "outputs": [],
   "source": [
    "clf_5 = pickle.load(open('data/clf_EM_' + str(5) + '_epoch', 'rb'))"
   ]
  },
  {
   "cell_type": "code",
   "execution_count": 77,
   "metadata": {},
   "outputs": [],
   "source": [
    "level_q = -clf_5['classifier'].coef_[0][:n_tourn]"
   ]
  },
  {
   "cell_type": "code",
   "execution_count": 81,
   "metadata": {},
   "outputs": [],
   "source": [
    "import operator\n",
    "# Создадим словарь со сложностями турниров, отберем по 10 самых сложных и самых простых турниров\n",
    "level_dict = dict(zip(sorted(df_train['tournament_id'].unique()), level_q))\n",
    "sorted_tuples = sorted(level_dict.items(), key=operator.itemgetter(1), reverse=False)\n",
    "Hard_top_10 = {k:v for k, v in sorted_tuples[:-10:-1]}\n",
    "Easy_top_10 = {k:v for k, v in sorted_tuples[:10]}"
   ]
  },
  {
   "cell_type": "code",
   "execution_count": 82,
   "metadata": {},
   "outputs": [
    {
     "name": "stdout",
     "output_type": "stream",
     "text": [
      "Hard level top 10 \n",
      "5465 : {'name': 'Чемпионат России', 'level': 7.54}\n",
      "5025 : {'name': 'Кубок городов', 'level': 7.4}\n",
      "5757 : {'name': 'Открытый Кубок России', 'level': 7.26}\n",
      "5594 : {'name': 'Кубок чемпионов', 'level': 7.0}\n",
      "5451 : {'name': 'Весна в ЛЭТИ', 'level': 7.0}\n",
      "5516 : {'name': 'Синхрон Моносова', 'level': 6.91}\n",
      "5864 : {'name': 'Гран-при Славянки. Общий зачет', 'level': 6.91}\n",
      "5756 : {'name': 'Жизнь и время Михаэля К.', 'level': 6.89}\n",
      "5795 : {'name': 'Кубок Москвы', 'level': 6.78}\n",
      "\n",
      "Easy level top 10 \n",
      "5457 : {'name': 'Студенческий чемпионат Калининградской области', 'level': -8.84}\n",
      "5013 : {'name': '(а)Синхрон-lite. Лига старта. Эпизод V', 'level': -8.28}\n",
      "5009 : {'name': '(а)Синхрон-lite. Лига старта. Эпизод III', 'level': -8.1}\n",
      "5658 : {'name': 'Кубок Югры', 'level': -7.81}\n",
      "5679 : {'name': 'Чемпионат Караганды', 'level': -7.76}\n",
      "5438 : {'name': 'Синхрон Лиги Разума', 'level': -7.7}\n",
      "5011 : {'name': '(а)Синхрон-lite. Лига старта. Эпизод IV', 'level': -7.49}\n",
      "5698 : {'name': '(а)Синхрон-lite. Лига старта. Эпизод VII', 'level': -7.4}\n",
      "6173 : {'name': 'Кубок Мэра Казани', 'level': -7.3}\n",
      "5313 : {'name': '(а)Синхрон-lite. Лига старта. Эпизод VI', 'level': -7.23}\n"
     ]
    }
   ],
   "source": [
    "Hardest_10 = {}\n",
    "Easiest_10 = {}\n",
    "for idx, level in Easy_top_10.items():\n",
    "    Easiest_10[idx] = {}\n",
    "    Easiest_10[idx]['name'] = tournaments.loc[idx]['name']\n",
    "    Easiest_10[idx]['level'] = round(level, 2)\n",
    "    \n",
    "for idx, level in Hard_top_10.items():\n",
    "    Hardest_10[idx] = {}\n",
    "    Hardest_10[idx]['name'] = tournaments.loc[idx]['name']\n",
    "    Hardest_10[idx]['level'] = round(level, 2)\n",
    "    \n",
    "    \n",
    "print('Hard level top 10 ')\n",
    "for key,value in Hardest_10.items(): \n",
    "    print(key, ':', value)\n",
    "print()    \n",
    "print('Easy level top 10 ')\n",
    "for key,value in Easiest_10.items(): \n",
    "    print(key, ':', value)"
   ]
  },
  {
   "cell_type": "markdown",
   "metadata": {},
   "source": [
    "Обученные сложности логистической регрессией соответствуют сложностям турниров, что говорит об адекватном поведении модели"
   ]
  }
 ],
 "metadata": {
  "kernelspec": {
   "display_name": "Python 3",
   "language": "python",
   "name": "python3"
  },
  "language_info": {
   "codemirror_mode": {
    "name": "ipython",
    "version": 3
   },
   "file_extension": ".py",
   "mimetype": "text/x-python",
   "name": "python",
   "nbconvert_exporter": "python",
   "pygments_lexer": "ipython3",
   "version": "3.8.3"
  }
 },
 "nbformat": 4,
 "nbformat_minor": 4
}
